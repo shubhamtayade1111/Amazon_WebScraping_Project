{
 "cells": [
  {
   "cell_type": "markdown",
   "id": "45130085",
   "metadata": {},
   "source": [
    "# Import libraries "
   ]
  },
  {
   "cell_type": "code",
   "execution_count": null,
   "id": "288b011e",
   "metadata": {},
   "outputs": [],
   "source": [
    "from bs4 import BeautifulSoup\n",
    "import requests\n",
    "import time\n",
    "import datetime\n",
    "\n",
    "import smtplib\n"
   ]
  },
  {
   "cell_type": "markdown",
   "id": "07cfe95b",
   "metadata": {},
   "source": [
    "## Connecting to website and pulling in data for Apple Watch"
   ]
  },
  {
   "cell_type": "code",
   "execution_count": 78,
   "id": "9b531b61",
   "metadata": {},
   "outputs": [],
   "source": [
    "URL = 'https://www.amazon.ca/Apple-Watch-Smartwatch-Silver-Aluminum/dp/B07J2TQY8N/ref=lp_7012516011_1_2'\n",
    "headers = {\"User-Agent\": \"Mozilla/5.0 (Windows NT 10.0; Win64; x64) AppleWebKit/537.36 (KHTML, like Gecko) Chrome/101.0.4951.54 Safari/537.36\", \"Accept\":\"text/html,application/xhtml+xml,application/xml;q=0.9,*/*;q=0.8\", \"DNT\":\"1\",\"Connection\":\"close\", \"Upgrade-Insecure-Requests\":\"1\"}\n",
    "\n",
    "page = requests.get(URL, headers=headers)\n",
    "\n",
    "soup1 = BeautifulSoup(page.content, \"html.parser\")\n",
    "\n",
    "soup2 = BeautifulSoup(soup1.prettify(), \"html.parser\")\n",
    "\n",
    "title = soup2.find(id='productTitle').get_text()\n",
    "\n",
    "price = soup2.find(id='corePrice_feature_div').get_text()\n",
    "\n",
    "\n",
    "\n",
    "\n",
    "\n",
    "\n",
    "\n"
   ]
  },
  {
   "cell_type": "code",
   "execution_count": 79,
   "id": "880aefd2",
   "metadata": {},
   "outputs": [
    {
     "name": "stdout",
     "output_type": "stream",
     "text": [
      "\n",
      "           Apple Watch Series 3 (GPS, 38mm) - Silver Aluminium Case with White Sport Band\n",
      "          \n"
     ]
    }
   ],
   "source": [
    "print(title)"
   ]
  },
  {
   "cell_type": "code",
   "execution_count": 80,
   "id": "105d339e",
   "metadata": {},
   "outputs": [
    {
     "name": "stdout",
     "output_type": "stream",
     "text": [
      "\n",
      "\n",
      "\n",
      "\n",
      "                      $199.00\n",
      "                     \n",
      "\n",
      "\n",
      "                       $\n",
      "                      \n",
      "\n",
      "                       199\n",
      "                       \n",
      "                        .\n",
      "                       \n",
      "\n",
      "\n",
      "                       00\n",
      "                      \n",
      "\n",
      "\n",
      "\n",
      "\n"
     ]
    }
   ],
   "source": [
    "print(price)"
   ]
  },
  {
   "cell_type": "markdown",
   "id": "5e97db94",
   "metadata": {},
   "source": [
    "## Clean up the data a little bit"
   ]
  },
  {
   "cell_type": "code",
   "execution_count": 81,
   "id": "b6f7d66e",
   "metadata": {},
   "outputs": [
    {
     "name": "stdout",
     "output_type": "stream",
     "text": [
      "Apple Watch Series 3 (GPS, 38mm) - Silver Aluminium Case with White Sport Band\n",
      "199.00\n"
     ]
    }
   ],
   "source": [
    "price = price.strip()[:7][1:]\n",
    "title = title.strip()\n",
    "\n",
    "print(title)\n",
    "print(price)"
   ]
  },
  {
   "cell_type": "markdown",
   "id": "7db6af02",
   "metadata": {},
   "source": [
    "## Create a Timestamp for your output to track when data was collected"
   ]
  },
  {
   "cell_type": "code",
   "execution_count": 82,
   "id": "4f021c23",
   "metadata": {},
   "outputs": [
    {
     "name": "stdout",
     "output_type": "stream",
     "text": [
      "2022-05-11\n"
     ]
    }
   ],
   "source": [
    "import datetime\n",
    "\n",
    "today = datetime.date.today()\n",
    "\n",
    "print(today)\n"
   ]
  },
  {
   "cell_type": "markdown",
   "id": "2e322c03",
   "metadata": {},
   "source": [
    "## Creating CSV, specifying headers and loading data into the file \n",
    "### Do not run this! It'll delete the data in csv."
   ]
  },
  {
   "cell_type": "code",
   "execution_count": 83,
   "id": "14d703ca",
   "metadata": {},
   "outputs": [],
   "source": [
    "import csv \n",
    "\n",
    "header = ['Title', 'Price', 'Date']\n",
    "data = [title, price, today]\n",
    "\n",
    "\n",
    "with open('AmazonWebScrapingDataset.csv', 'w', newline='', encoding='UTF8') as f:\n",
    "    writer = csv.writer(f)\n",
    "    writer.writerow(header)\n",
    "    writer.writerow(data)\n",
    "    \n"
   ]
  },
  {
   "cell_type": "code",
   "execution_count": 90,
   "id": "d07eeb86",
   "metadata": {},
   "outputs": [
    {
     "name": "stdout",
     "output_type": "stream",
     "text": [
      "                                               Title  Price        Date\n",
      "0  Apple Watch Series 3 (GPS, 38mm) - Silver Alum...  199.0   5/11/2022\n",
      "1  Apple Watch Series 3 (GPS, 38mm) - Silver Alum...  199.0  2022-05-11\n",
      "2  Apple Watch Series 3 (GPS, 38mm) - Silver Alum...  199.0  2022-05-11\n",
      "3  Apple Watch Series 3 (GPS, 38mm) - Silver Alum...  199.0  2022-05-11\n"
     ]
    }
   ],
   "source": [
    "import pandas as pd\n",
    "\n",
    "df = pd.read_csv(r'C:\\Users\\q\\AmazonWebScrapingDataset.csv')\n",
    "\n",
    "print(df)\n",
    "\n"
   ]
  },
  {
   "cell_type": "markdown",
   "id": "7b8dfc3d",
   "metadata": {},
   "source": [
    "## Now we are appending data to the csv"
   ]
  },
  {
   "cell_type": "code",
   "execution_count": 89,
   "id": "6b05c1eb",
   "metadata": {},
   "outputs": [],
   "source": [
    "with open('AmazonWebScrapingDataset.csv', 'a+', newline='', encoding='UTF8') as f:\n",
    "    writer = csv.writer(f)\n",
    "    writer.writerow(data)"
   ]
  },
  {
   "cell_type": "markdown",
   "id": "b0afbe98",
   "metadata": {},
   "source": [
    "## Combining all of the above code into one function"
   ]
  },
  {
   "cell_type": "code",
   "execution_count": 91,
   "id": "8e95b9e0",
   "metadata": {},
   "outputs": [],
   "source": [
    "URL = 'https://www.amazon.ca/Apple-Watch-Smartwatch-Silver-Aluminum/dp/B07J2TQY8N/ref=lp_7012516011_1_2'\n",
    "headers = {\"User-Agent\": \"Mozilla/5.0 (Windows NT 10.0; Win64; x64) AppleWebKit/537.36 (KHTML, like Gecko) Chrome/101.0.4951.54 Safari/537.36\", \"Accept\":\"text/html,application/xhtml+xml,application/xml;q=0.9,*/*;q=0.8\", \"DNT\":\"1\",\"Connection\":\"close\", \"Upgrade-Insecure-Requests\":\"1\"}\n",
    "\n",
    "\n",
    "def check_price():\n",
    "  \n",
    "    page = requests.get(URL, headers=headers)\n",
    "\n",
    "    soup1 = BeautifulSoup(page.content, \"html.parser\")\n",
    "\n",
    "    soup2 = BeautifulSoup(soup1.prettify(), \"html.parser\")\n",
    "\n",
    "    title = soup2.find(id='productTitle').get_text()\n",
    "\n",
    "    price = soup2.find(id='corePrice_feature_div').get_text()\n",
    "\n",
    "    price = price.strip()[:7][1:]\n",
    "    title = title.strip()\n",
    "\n",
    "    import datetime\n",
    "\n",
    "    today = datetime.date.today()\n",
    "    \n",
    "    import csv \n",
    "\n",
    "    header = ['Title', 'Price', 'Date']\n",
    "    data = [title, price, today]\n",
    "\n",
    "    with open('AmazonWebScrapingDataset.csv', 'a+', newline='', encoding='UTF8') as f:\n",
    "        writer = csv.writer(f)\n",
    "        writer.writerow(data)\n",
    "        \n",
    "    if(price < 180):\n",
    "        send_mail()\n",
    " \n",
    "    "
   ]
  },
  {
   "cell_type": "markdown",
   "id": "1c2d29eb",
   "metadata": {},
   "source": [
    "## Running check_price after a set time and inputs data into our CSV"
   ]
  },
  {
   "cell_type": "code",
   "execution_count": null,
   "id": "c72f2c4e",
   "metadata": {},
   "outputs": [],
   "source": [
    "while(True):\n",
    "    check_price()\n",
    "    time.sleep(86400) "
   ]
  },
  {
   "cell_type": "code",
   "execution_count": 93,
   "id": "00af7126",
   "metadata": {},
   "outputs": [
    {
     "name": "stdout",
     "output_type": "stream",
     "text": [
      "                                               Title  Price        Date\n",
      "0  Apple Watch Series 3 (GPS, 38mm) - Silver Alum...  199.0   5/11/2022\n",
      "1  Apple Watch Series 3 (GPS, 38mm) - Silver Alum...  199.0  2022-05-11\n",
      "2  Apple Watch Series 3 (GPS, 38mm) - Silver Alum...  199.0  2022-05-11\n",
      "3  Apple Watch Series 3 (GPS, 38mm) - Silver Alum...  199.0  2022-05-11\n",
      "4  Apple Watch Series 3 (GPS, 38mm) - Silver Alum...  199.0  2022-05-11\n",
      "5  Apple Watch Series 3 (GPS, 38mm) - Silver Alum...  199.0  2022-05-11\n",
      "6  Apple Watch Series 3 (GPS, 38mm) - Silver Alum...  199.0  2022-05-11\n"
     ]
    }
   ],
   "source": [
    "import pandas as pd\n",
    "\n",
    "df = pd.read_csv(r'C:\\Users\\q\\AmazonWebScrapingDataset.csv')\n",
    "\n",
    "print(df)"
   ]
  },
  {
   "cell_type": "markdown",
   "id": "8ffa3881",
   "metadata": {},
   "source": [
    "# Send an email when Price goes down to 180"
   ]
  },
  {
   "cell_type": "code",
   "execution_count": 89,
   "id": "d14fce5f",
   "metadata": {},
   "outputs": [],
   "source": [
    "\n",
    "\n",
    "def send_mail():\n",
    "    server = smtplib.SMTP_SSL('smtp.gmail.com',465)\n",
    "    server.ehlo()\n",
    "    #server.starttls()\n",
    "    server.ehlo()\n",
    "    server.login('shubhtay044@gmail.com','xxxxxxxxxxxxxx')\n",
    "    \n",
    "    subject = \"The Shirt you want is below $15! Now is your chance to buy!\"\n",
    "    body = \"Alex, This is the moment we have been waiting for. Now is your chance to pick up the shirt of your dreams. Don't mess it up! Link here: https://www.amazon.com/Funny-Data-Systems-Business-Analyst/dp/B07FNW9FGJ/ref=sr_1_3?dchild=1&keywords=data+analyst+tshirt&qid=1626655184&sr=8-3\"\n",
    "   \n",
    "    msg = f\"Subject: {subject}\\n\\n{body}\"\n",
    "    \n",
    "    server.sendmail(\n",
    "        'shubhtay044@gmail.com',\n",
    "        msg\n",
    "     \n",
    "    )"
   ]
  },
  {
   "cell_type": "code",
   "execution_count": null,
   "id": "d33a5c13",
   "metadata": {},
   "outputs": [],
   "source": []
  }
 ],
 "metadata": {
  "kernelspec": {
   "display_name": "Python 3 (ipykernel)",
   "language": "python",
   "name": "python3"
  },
  "language_info": {
   "codemirror_mode": {
    "name": "ipython",
    "version": 3
   },
   "file_extension": ".py",
   "mimetype": "text/x-python",
   "name": "python",
   "nbconvert_exporter": "python",
   "pygments_lexer": "ipython3",
   "version": "3.9.12"
  }
 },
 "nbformat": 4,
 "nbformat_minor": 5
}
